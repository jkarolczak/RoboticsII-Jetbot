{
 "cells": [
  {
   "cell_type": "code",
   "execution_count": null,
   "metadata": {
    "colab": {
     "base_uri": "https://localhost:8080/"
    },
    "id": "b8wH1UYXyQcW",
    "outputId": "68abe105-f33c-42d3-a3fb-62585dcb6319",
    "pycharm": {
     "name": "#%%\n",
     "is_executing": true
    }
   },
   "outputs": [],
   "source": [
    "# !pip install git+https://github.com/albumentations-team/albumentations\n",
    "# !pip install opencv-python-headless==4.1.2.30"
   ]
  },
  {
   "cell_type": "code",
   "execution_count": 8,
   "metadata": {
    "id": "pd7_aCnimoYR",
    "pycharm": {
     "name": "#%%\n"
    }
   },
   "outputs": [],
   "source": [
    "import albumentations as A #inspirations: https://github.com/UjjwalSaxena/Automold--Road-Augmentation-Library\n",
    "import cv2\n",
    "import os\n",
    "import random\n",
    "import numpy as np\n",
    "import tqdm\n",
    "from typing import List"
   ]
  },
  {
   "cell_type": "code",
   "execution_count": 9,
   "metadata": {
    "id": "eTJyaEr2xAx5",
    "pycharm": {
     "name": "#%%\n"
    }
   },
   "outputs": [],
   "source": [
    "random.seed(42)"
   ]
  },
  {
   "cell_type": "code",
   "execution_count": 10,
   "metadata": {
    "id": "QArqy-8swOr6",
    "pycharm": {
     "name": "#%%\n"
    }
   },
   "outputs": [],
   "source": [
    "transforms = [\n",
    "              A.RandomBrightnessContrast(brightness_limit=(0.2, 0.5), always_apply=True),\n",
    "              A.RandomBrightnessContrast(brightness_limit=(-0.4, -0.2), always_apply=True),\n",
    "              A.RandomShadow(shadow_roi=(0, 0.5, 1, 1), always_apply=True),\n",
    "              A.RandomSunFlare(flare_roi=(0, 0, 1, 0.5), src_radius=100, always_apply=True),\n",
    "              A.MotionBlur(always_apply=True),      #add more if needed        \n",
    "]"
   ]
  },
  {
   "cell_type": "code",
   "execution_count": 11,
   "metadata": {
    "id": "rF4l9vyRqXDO",
    "pycharm": {
     "name": "#%%\n"
    }
   },
   "outputs": [],
   "source": [
    "path = 'dataset/'"
   ]
  },
  {
   "cell_type": "code",
   "execution_count": 12,
   "metadata": {
    "id": "nVJb_Yzurmtv",
    "pycharm": {
     "name": "#%%\n"
    }
   },
   "outputs": [],
   "source": [
    "def create_augmented_data(path: str, folder: str, transformations: List[A.BasicTransform]) -> None:\n",
    "    \n",
    "    files = os.listdir(os.path.join(path, folder))\n",
    "\n",
    "    for f in tqdm.tqdm(files):\n",
    "        image = cv2.imread(os.path.join(path, folder, f))\n",
    "        image = cv2.cvtColor(image, cv2.COLOR_BGR2RGB)\n",
    "\n",
    "        for i, transform in enumerate(transformations):\n",
    "            img = transform(image=image)['image']\n",
    "            save_path = os.path.join(path, folder, f\"{f[:-4]}_{i}.jpg\")\n",
    "            cv2.imwrite(save_path, cv2.cvtColor(img, cv2.COLOR_RGB2BGR))\n",
    "    "
   ]
  },
  {
   "cell_type": "code",
   "execution_count": null,
   "metadata": {
    "colab": {
     "base_uri": "https://localhost:8080/"
    },
    "id": "oOvC4uZ-nP1w",
    "outputId": "c3f57046-aeee-4b71-8ab7-1d9776975e54",
    "pycharm": {
     "name": "#%%\n",
     "is_executing": true
    }
   },
   "outputs": [],
   "source": [
    "folders = [f for f in os.listdir(path) if os.path.isdir(os.path.join(path, f))]\n",
    "folders"
   ]
  },
  {
   "cell_type": "code",
   "execution_count": null,
   "outputs": [],
   "source": [
    "for folder in tqdm.tqdm(folders):\n",
    "    create_augmented_data(path=path, folder=folder, transformations=transforms)"
   ],
   "metadata": {
    "collapsed": false,
    "pycharm": {
     "name": "#%%\n",
     "is_executing": true
    }
   }
  }
 ],
 "metadata": {
  "colab": {
   "collapsed_sections": [],
   "name": "augmentations.ipynb",
   "provenance": []
  },
  "kernelspec": {
   "display_name": "Python 3",
   "name": "python3"
  },
  "language_info": {
   "name": "python"
  }
 },
 "nbformat": 4,
 "nbformat_minor": 0
}