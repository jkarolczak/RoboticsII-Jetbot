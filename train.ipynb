{
 "cells": [
  {
   "cell_type": "markdown",
   "metadata": {
    "pycharm": {
     "name": "#%% md\n"
    }
   },
   "source": [
    "# Setup"
   ]
  },
  {
   "cell_type": "code",
   "execution_count": 1,
   "metadata": {
    "id": "rnFsqbP6wSt7",
    "pycharm": {
     "name": "#%%\n"
    }
   },
   "outputs": [],
   "source": [
    "import os\n",
    "import re\n",
    "from copy import deepcopy\n",
    "from typing import List, Tuple, Union\n",
    "\n",
    "import numpy as np\n",
    "import pandas as pd\n",
    "import torch\n",
    "import torch.nn as nn\n",
    "from PIL import Image"
   ]
  },
  {
   "cell_type": "code",
   "execution_count": 2,
   "metadata": {
    "id": "ZHSMTSi3BmsN",
    "pycharm": {
     "name": "#%%\n"
    }
   },
   "outputs": [],
   "source": [
    "# GLOBALS\n",
    "\n",
    "# define your path below\n",
    "# DATASET_PATH = ... # Ania\n",
    "# DATASET_PATH = ... # Witek\n",
    "DATASET_PATH = 'dataset/'  # Jacek\n",
    "\n",
    "# hyperparameters\n",
    "BATCH_SIZE = 32\n",
    "EPOCHS = 100\n",
    "LEARNING_RATE = 1e-3\n",
    "NUM_WORKERS = 1\n",
    "TRAIN_SET_SIZE = 0.8"
   ]
  },
  {
   "cell_type": "code",
   "execution_count": 3,
   "metadata": {
    "id": "TEikNh9bW_s0",
    "pycharm": {
     "name": "#%%\n"
    }
   },
   "outputs": [],
   "source": [
    "torch.manual_seed(42)\n",
    "np.random.seed(42)"
   ]
  },
  {
   "cell_type": "markdown",
   "metadata": {
    "pycharm": {
     "name": "#%% md\n"
    }
   },
   "source": [
    "# Data"
   ]
  },
  {
   "cell_type": "code",
   "execution_count": 4,
   "metadata": {
    "id": "VN82Vw_KAdqw",
    "pycharm": {
     "name": "#%%\n"
    }
   },
   "outputs": [],
   "source": [
    "class StorageDataset(torch.utils.data.Dataset):\n",
    "    def __init__(self, path: str) -> None:\n",
    "        self.path = path\n",
    "        self.dirs = [d for d in os.listdir(self.path) if os.path.isdir(os.path.join(self.path, d))]\n",
    "        self.items = self._get_file_target_map()\n",
    "\n",
    "    def _get_file_target_map(self) -> List[Tuple[str, Tuple[float, float]]]:\n",
    "        result = []\n",
    "        for dir in self.dirs:\n",
    "            labels = pd.read_csv(f'{self.path}/{dir}.csv', header=None, index_col=0, names=['speed', 'turn'])\n",
    "            for file_name in os.listdir(os.path.join(self.path, dir)):\n",
    "                file_path = os.path.join(self.path, dir, file_name)\n",
    "                photo_id = int(re.search(r'\\d+', file_name).group())\n",
    "                if photo_id in labels.index:\n",
    "                    target = labels.loc[photo_id]\n",
    "                    result.append((file_path, (target['speed'], target['turn'], photo_id)))\n",
    "        return result\n",
    "\n",
    "    def __len__(self):\n",
    "        return len(self.items)\n",
    "\n",
    "    def __getitem__(self, idx: int) -> Tuple[torch.Tensor, torch.Tensor]:\n",
    "        path, target = self.items[idx]\n",
    "        img = torch.tensor(np.asarray(Image.open(path)), dtype=torch.float32)\n",
    "        target = torch.tensor(target[:2], dtype=torch.float32)\n",
    "        return img, target"
   ]
  },
  {
   "cell_type": "code",
   "execution_count": 5,
   "metadata": {
    "pycharm": {
     "name": "#%%\n"
    }
   },
   "outputs": [],
   "source": [
    "def train_test_split(dataset: StorageDataset, train_size: float = 0.8, shuffle: bool = True):\n",
    "    train_keys, test_keys = set(), set()\n",
    "    train_items, test_items = list(), list()\n",
    "    for item in dataset.items:\n",
    "        key = item[1][2]\n",
    "        if key in train_keys:\n",
    "            train_items.append(item)\n",
    "        elif key in test_keys:\n",
    "            test_items.append(item)\n",
    "        else:\n",
    "            if np.random.random() < train_size:\n",
    "                train_keys.add(key)\n",
    "                train_items.append(item)\n",
    "            else:\n",
    "                test_keys.add(key)\n",
    "                test_items.append(item)\n",
    "    train, test = deepcopy(dataset), deepcopy(dataset)\n",
    "    train.items, test.items = train_items, test_items\n",
    "    return train, test"
   ]
  },
  {
   "cell_type": "code",
   "execution_count": 6,
   "metadata": {
    "pycharm": {
     "name": "#%%\n"
    }
   },
   "outputs": [],
   "source": [
    "dataset = StorageDataset(DATASET_PATH)\n",
    "train_dataset, test_dataset = train_test_split(dataset, train_size=TRAIN_SET_SIZE, shuffle=True)\n",
    "train = torch.utils.data.DataLoader(train_dataset, batch_size=BATCH_SIZE, shuffle=True, num_workers=NUM_WORKERS)\n",
    "test = torch.utils.data.DataLoader(test_dataset, batch_size=BATCH_SIZE, shuffle=True, num_workers=NUM_WORKERS)"
   ]
  },
  {
   "cell_type": "markdown",
   "metadata": {
    "pycharm": {
     "name": "#%% md\n"
    }
   },
   "source": [
    "# ResNet18"
   ]
  },
  {
   "cell_type": "code",
   "execution_count": null,
   "metadata": {
    "pycharm": {
     "name": "#%%\n"
    }
   },
   "outputs": [],
   "source": [
    "class ResNet18(nn.Module):\n",
    "    def __init__(self) -> None:\n",
    "        super().__init__()\n",
    "        self.backend = torch.hub.load('pytorch/vision:v0.10.0', 'resnet18', pretrained=True)\n",
    "        self.backend.fc = nn.Linear(in_features=512, out_features=2, bias=True)\n",
    "\n",
    "    def forward(self, x: torch.Tensor) -> torch.Tensor:\n",
    "        x = self.backend(x)\n",
    "        x = torch.clamp(x, min=-1.0, max=1.0)\n",
    "        return x"
   ]
  },
  {
   "cell_type": "code",
   "execution_count": null,
   "metadata": {
    "pycharm": {
     "name": "#%%\n"
    }
   },
   "outputs": [],
   "source": [
    "resnet = ResNet18()\n",
    "resnet.cuda()\n",
    "resnet = torch.jit.script(resnet)"
   ]
  },
  {
   "cell_type": "code",
   "execution_count": null,
   "metadata": {
    "pycharm": {
     "name": "#%%\n"
    }
   },
   "outputs": [],
   "source": [
    "optimizer = torch.optim.Adam(resnet.parameters(), lr=LEARNING_RATE)\n",
    "criterion = nn.MSELoss()"
   ]
  },
  {
   "cell_type": "code",
   "execution_count": null,
   "metadata": {
    "pycharm": {
     "name": "#%%\n"
    }
   },
   "outputs": [],
   "source": [
    "train_len = len(train_dataset)\n",
    "\n",
    "dummy_input = torch.randn(1, 3, 224, 224, device='cuda')\n",
    "os.makedirs('models', exist_ok=True)\n",
    "best_loss = np.inf\n",
    "\n",
    "for epoch in range(EPOCHS):\n",
    "    print(f'epoch {epoch}')\n",
    "    train_loss_history, test_loss_history = [], []\n",
    "\n",
    "    resnet.train()\n",
    "    for i, (x_train, y_train) in enumerate(train):\n",
    "        if not i % 5:\n",
    "            print(f'{i}/{int(train_len / BATCH_SIZE)}', end='\\r')\n",
    "        x_train = torch.movedim(x_train, -1, -3)\n",
    "        x_train = x_train.to(torch.device('cuda'))\n",
    "        y_train = y_train.to(torch.device('cuda'))\n",
    "        optimizer.zero_grad()\n",
    "        y_hat = resnet(x_train)\n",
    "        loss = criterion(y_hat, y_train)\n",
    "        loss.backward()\n",
    "        optimizer.step()\n",
    "        train_loss_history.append(float(loss.detach().cpu()))\n",
    "    print(f'train loss: {sum(train_loss_history) / len(train_loss_history)}')\n",
    "\n",
    "    resnet.eval()\n",
    "    with torch.no_grad():\n",
    "        for x_test, y_test in test:\n",
    "            x_test = torch.movedim(x_test, -1, -3)\n",
    "            x_test = x_test.to(torch.device('cuda'))\n",
    "            y_test = y_test.to(torch.device('cuda'))\n",
    "            y_hat = resnet(x_test)\n",
    "            loss = criterion(y_hat, y_test)\n",
    "            test_loss_history.append(float(loss.detach().cpu()))\n",
    "    test_loss = sum(test_loss_history) / len(test_loss_history)\n",
    "    if test_loss < best_loss:\n",
    "        best_loss = test_loss\n",
    "        torch.jit.save(resnet, f'models/resnet_{epoch}_{test_loss:.4f}.pt')\n",
    "        torch.onnx.export(resnet, dummy_input, f'models/resnet_{epoch}_{test_loss:.4f}_opset_11.onnx', opset_version=11)\n",
    "        torch.onnx.export(resnet, dummy_input, f'models/resnet_{epoch}_{test_loss:.4f}_opset_13.onnx', opset_version=13)\n",
    "        print(f'test loss: {test_loss} (best, saving model)')\n",
    "    else:\n",
    "        print(f'test loss: {test_loss}')"
   ]
  },
  {
   "cell_type": "markdown",
   "metadata": {
    "pycharm": {
     "name": "#%% md\n"
    }
   },
   "source": [
    "# MobileNet"
   ]
  },
  {
   "cell_type": "code",
   "execution_count": 9,
   "metadata": {
    "pycharm": {
     "name": "#%%\n"
    }
   },
   "outputs": [],
   "source": [
    "class MobileNetV2(nn.Module):\n",
    "    def __init__(self) -> None:\n",
    "        super().__init__()\n",
    "        self.backend = torch.hub.load('pytorch/vision:v0.10.0', 'mobilenet_v2', pretrained=True)\n",
    "        self.backend.classifier[1] = nn.Linear(in_features=1280, out_features=2, bias=True)\n",
    "\n",
    "    def forward(self, x: torch.Tensor) -> torch.Tensor:\n",
    "        x = self.backend(x)\n",
    "        x = torch.clamp(x, min=-1.0, max=1.0)\n",
    "        return x"
   ]
  },
  {
   "cell_type": "code",
   "execution_count": 10,
   "outputs": [
    {
     "name": "stderr",
     "output_type": "stream",
     "text": [
      "Using cache found in /home/witold/.cache/torch/hub/pytorch_vision_v0.10.0\n"
     ]
    }
   ],
   "source": [
    "mobilenet = MobileNetV2()\n",
    "mobilenet.cuda()\n",
    "mobilenet = torch.jit.script(mobilenet)"
   ],
   "metadata": {
    "collapsed": false,
    "pycharm": {
     "name": "#%%\n"
    }
   }
  },
  {
   "cell_type": "code",
   "execution_count": 11,
   "outputs": [],
   "source": [
    "train_len = len(train_dataset)\n",
    "\n",
    "dummy_input = torch.randn(1, 3, 224, 224, device='cuda')\n",
    "os.makedirs('models', exist_ok=True)\n",
    "best_loss = np.inf\n",
    "\n",
    "for epoch in range(EPOCHS):\n",
    "    print(f'epoch {epoch}')\n",
    "    train_loss_history, test_loss_history = [], []\n",
    "\n",
    "    mobilenet.train()\n",
    "    for i, (x_train, y_train) in enumerate(train):\n",
    "        if not i % 5:\n",
    "            print(f'{i}/{int(train_len / BATCH_SIZE)}', end='\\r')\n",
    "        x_train = torch.movedim(x_train, -1, -3)\n",
    "        x_train = x_train.to(torch.device('cuda'))\n",
    "        y_train = y_train.to(torch.device('cuda'))\n",
    "        optimizer.zero_grad()\n",
    "        y_hat = mobilenet(x_train)\n",
    "        loss = criterion(y_hat, y_train)\n",
    "        loss.backward()\n",
    "        optimizer.step()\n",
    "        train_loss_history.append(float(loss.detach().cpu()))\n",
    "        break\n",
    "    print(f'train loss: {sum(train_loss_history) / len(train_loss_history)}')\n",
    "\n",
    "    mobilenet.eval()\n",
    "    with torch.no_grad():\n",
    "        for x_test, y_test in test:\n",
    "            x_test = torch.movedim(x_test, -1, -3)\n",
    "            x_test = x_test.to(torch.device('cuda'))\n",
    "            y_test = y_test.to(torch.device('cuda'))\n",
    "            y_hat = mobilenet(x_test)\n",
    "            loss = criterion(y_hat, y_test)\n",
    "            test_loss_history.append(float(loss.detach().cpu()))\n",
    "            break\n",
    "    test_loss = sum(test_loss_history) / len(test_loss_history)\n",
    "    if test_loss < best_loss:\n",
    "        best_loss = test_loss\n",
    "        torch.jit.save(mobilenet, f'models/resnet_{epoch}_{test_loss:.4f}.pt')\n",
    "        torch.onnx.export(mobilenet, dummy_input, f'models/mobilenet_{epoch}_{test_loss:.4f}_opset_11.onnx', opset_version=11)\n",
    "        torch.onnx.export(mobilenet, dummy_input, f'models/mobilenet_{epoch}_{test_loss:.4f}_opset_13.onnx', opset_version=13)\n",
    "        print(f'test loss: {test_loss} (best, saving model)')\n",
    "    else:\n",
    "        print(f'test loss: {test_loss}')"
   ],
   "metadata": {
    "collapsed": false,
    "pycharm": {
     "name": "#%%\n"
    }
   }
  },
  {
   "cell_type": "code",
   "execution_count": 12,
   "outputs": [
    {
     "name": "stdout",
     "output_type": "stream",
     "text": [
      "epoch 0\n",
      "train loss: 0.4787295460700989\n",
      "test loss: 0.5124832391738892 (best, saving model)\n",
      "epoch 1\n",
      "train loss: 0.3226928412914276\n",
      "test loss: 0.42607539892196655 (best, saving model)\n",
      "epoch 2\n",
      "train loss: 0.3831251561641693\n",
      "test loss: 0.28809764981269836 (best, saving model)\n",
      "epoch 3\n",
      "train loss: 0.27176299691200256\n",
      "test loss: 0.8398078083992004\n",
      "epoch 4\n",
      "train loss: 0.4734652042388916\n",
      "test loss: 0.6289067268371582\n",
      "epoch 5\n",
      "train loss: 0.4261825978755951\n",
      "test loss: 0.7455623149871826\n",
      "epoch 6\n",
      "train loss: 0.323070228099823\n",
      "test loss: 0.6035286784172058\n",
      "epoch 7\n",
      "train loss: 0.31416329741477966\n",
      "test loss: 0.39479127526283264\n",
      "epoch 8\n",
      "train loss: 0.4514525532722473\n",
      "test loss: 0.38549119234085083\n",
      "epoch 9\n",
      "train loss: 0.5408028364181519\n",
      "test loss: 0.35558322072029114\n",
      "epoch 10\n",
      "train loss: 0.3321213126182556\n",
      "test loss: 0.3801511228084564\n",
      "epoch 11\n",
      "train loss: 0.3627023696899414\n",
      "test loss: 0.497458279132843\n",
      "epoch 12\n",
      "train loss: 0.2711392045021057\n",
      "test loss: 0.3706629276275635\n",
      "epoch 13\n",
      "train loss: 0.4353201985359192\n",
      "test loss: 0.3052853047847748\n",
      "epoch 14\n",
      "train loss: 0.3791661262512207\n",
      "test loss: 0.36220836639404297\n",
      "epoch 15\n",
      "train loss: 0.3480592370033264\n",
      "test loss: 0.26287412643432617 (best, saving model)\n",
      "epoch 16\n",
      "train loss: 0.41524457931518555\n",
      "test loss: 0.5175882577896118\n",
      "epoch 17\n",
      "train loss: 0.2852810025215149\n",
      "test loss: 0.48908212780952454\n",
      "epoch 18\n",
      "train loss: 0.3691807985305786\n",
      "test loss: 0.5130828619003296\n",
      "epoch 19\n",
      "train loss: 0.5189409852027893\n",
      "test loss: 0.6517442464828491\n",
      "epoch 20\n",
      "train loss: 0.5854853391647339\n",
      "test loss: 0.505587100982666\n",
      "epoch 21\n",
      "train loss: 0.4109482765197754\n",
      "test loss: 0.2953481674194336\n",
      "epoch 22\n",
      "train loss: 0.467926025390625\n",
      "test loss: 0.4512753486633301\n",
      "epoch 23\n",
      "train loss: 0.43944406509399414\n",
      "test loss: 0.41538333892822266\n",
      "epoch 24\n",
      "train loss: 0.32486864924430847\n",
      "test loss: 0.3393534719944\n",
      "epoch 25\n",
      "train loss: 0.3416568636894226\n",
      "test loss: 0.36264121532440186\n",
      "epoch 26\n",
      "train loss: 0.4989948272705078\n",
      "test loss: 0.41774314641952515\n",
      "epoch 27\n",
      "train loss: 0.27915582060813904\n",
      "test loss: 0.5522075891494751\n",
      "epoch 28\n",
      "train loss: 0.3037981390953064\n",
      "test loss: 0.4221290647983551\n",
      "epoch 29\n",
      "train loss: 0.36403512954711914\n",
      "test loss: 0.44005918502807617\n",
      "epoch 30\n",
      "train loss: 0.34257638454437256\n",
      "test loss: 0.2762482464313507\n",
      "epoch 31\n",
      "train loss: 0.40093833208084106\n",
      "test loss: 0.3480425477027893\n",
      "epoch 32\n",
      "train loss: 0.46291685104370117\n",
      "test loss: 0.5750588178634644\n",
      "epoch 33\n",
      "train loss: 0.4238649010658264\n",
      "test loss: 0.4823135435581207\n",
      "epoch 34\n",
      "train loss: 0.23355714976787567\n",
      "test loss: 0.3503270745277405\n",
      "epoch 35\n",
      "train loss: 0.4027845859527588\n",
      "test loss: 0.5310951471328735\n",
      "epoch 36\n",
      "train loss: 0.3152882754802704\n",
      "test loss: 0.31537365913391113\n",
      "epoch 37\n",
      "train loss: 0.2800091803073883\n",
      "test loss: 0.3760553002357483\n",
      "epoch 38\n",
      "train loss: 0.3858526647090912\n",
      "test loss: 0.4439653754234314\n",
      "epoch 39\n",
      "train loss: 0.30996501445770264\n",
      "test loss: 0.5278772115707397\n",
      "epoch 40\n",
      "train loss: 0.1936022937297821\n",
      "test loss: 0.3990696668624878\n",
      "epoch 41\n",
      "train loss: 0.19950145483016968\n",
      "test loss: 0.3974519371986389\n",
      "epoch 42\n",
      "train loss: 0.32575827836990356\n",
      "test loss: 0.49298280477523804\n",
      "epoch 43\n",
      "train loss: 0.25057411193847656\n",
      "test loss: 0.5807754397392273\n",
      "epoch 44\n",
      "train loss: 0.29824453592300415\n",
      "test loss: 0.3196197748184204\n",
      "epoch 45\n",
      "train loss: 0.22919762134552002\n",
      "test loss: 0.42480039596557617\n",
      "epoch 46\n",
      "train loss: 0.3768993020057678\n",
      "test loss: 0.4646318554878235\n",
      "epoch 47\n",
      "train loss: 0.21348658204078674\n",
      "test loss: 0.521882951259613\n",
      "epoch 48\n",
      "train loss: 0.21344125270843506\n",
      "test loss: 0.2528829872608185 (best, saving model)\n",
      "epoch 49\n",
      "train loss: 0.2221619337797165\n",
      "test loss: 0.25322678685188293\n",
      "epoch 50\n",
      "train loss: 0.3705708980560303\n",
      "test loss: 0.3334091007709503\n",
      "epoch 51\n",
      "train loss: 0.28113406896591187\n",
      "test loss: 0.28476881980895996\n",
      "epoch 52\n",
      "train loss: 0.2223062813282013\n",
      "test loss: 0.22720642387866974 (best, saving model)\n",
      "epoch 53\n",
      "train loss: 0.17066141963005066\n",
      "test loss: 0.2967469096183777\n",
      "epoch 54\n",
      "train loss: 0.17831531167030334\n",
      "test loss: 0.3680717647075653\n",
      "epoch 55\n",
      "train loss: 0.22586578130722046\n",
      "test loss: 0.5391373634338379\n",
      "epoch 56\n",
      "train loss: 0.29004085063934326\n",
      "test loss: 0.3817521929740906\n",
      "epoch 57\n",
      "train loss: 0.2859676778316498\n",
      "test loss: 0.37895309925079346\n",
      "epoch 58\n",
      "train loss: 0.15328985452651978\n",
      "test loss: 0.3528139591217041\n",
      "epoch 59\n",
      "train loss: 0.12327206134796143\n",
      "test loss: 0.3343650698661804\n",
      "epoch 60\n",
      "train loss: 0.3419422507286072\n",
      "test loss: 0.15634173154830933 (best, saving model)\n",
      "epoch 61\n",
      "train loss: 0.2092812955379486\n",
      "test loss: 0.1956040859222412\n",
      "epoch 62\n",
      "train loss: 0.1455993950366974\n",
      "test loss: 0.25211000442504883\n",
      "epoch 63\n",
      "train loss: 0.15996913611888885\n",
      "test loss: 0.25717663764953613\n",
      "epoch 64\n",
      "train loss: 0.18599241971969604\n",
      "test loss: 0.19925951957702637\n",
      "epoch 65\n",
      "train loss: 0.21543553471565247\n",
      "test loss: 0.199133962392807\n",
      "epoch 66\n",
      "train loss: 0.2454029619693756\n",
      "test loss: 0.3054129481315613\n",
      "epoch 67\n",
      "train loss: 0.15288689732551575\n",
      "test loss: 0.3515600860118866\n",
      "epoch 68\n",
      "train loss: 0.20009011030197144\n",
      "test loss: 0.45537370443344116\n",
      "epoch 69\n",
      "train loss: 0.10174081474542618\n",
      "test loss: 0.38882580399513245\n",
      "epoch 70\n",
      "train loss: 0.20759831368923187\n",
      "test loss: 0.5973188281059265\n",
      "epoch 71\n",
      "train loss: 0.23090623319149017\n",
      "test loss: 0.5272214412689209\n",
      "epoch 72\n",
      "train loss: 0.23539185523986816\n",
      "test loss: 0.519843339920044\n",
      "epoch 73\n",
      "train loss: 0.33318567276000977\n",
      "test loss: 0.2975310683250427\n",
      "epoch 74\n",
      "train loss: 0.28973686695098877\n",
      "test loss: 0.6120897531509399\n",
      "epoch 75\n",
      "train loss: 0.2233431339263916\n",
      "test loss: 0.19236531853675842\n",
      "epoch 76\n",
      "train loss: 0.1025819480419159\n",
      "test loss: 0.1685822457075119\n",
      "epoch 77\n",
      "train loss: 0.18713554739952087\n",
      "test loss: 0.1897406131029129\n",
      "epoch 78\n",
      "train loss: 0.13181808590888977\n",
      "test loss: 0.24138784408569336\n",
      "epoch 79\n",
      "train loss: 0.09890280663967133\n",
      "test loss: 0.29230037331581116\n",
      "epoch 80\n",
      "train loss: 0.16277237236499786\n",
      "test loss: 0.15527719259262085 (best, saving model)\n",
      "epoch 81\n",
      "train loss: 0.1155676394701004\n",
      "test loss: 0.15039421617984772 (best, saving model)\n",
      "epoch 82\n",
      "train loss: 0.35335373878479004\n",
      "test loss: 0.2201429009437561\n",
      "epoch 83\n",
      "train loss: 0.13558712601661682\n",
      "test loss: 0.15226490795612335\n",
      "epoch 84\n",
      "train loss: 0.06484301388263702\n",
      "test loss: 0.20501744747161865\n",
      "epoch 85\n",
      "train loss: 0.22700229287147522\n",
      "test loss: 0.1346309781074524 (best, saving model)\n",
      "epoch 86\n",
      "train loss: 0.1585788130760193\n",
      "test loss: 0.08902207762002945 (best, saving model)\n",
      "epoch 87\n",
      "train loss: 0.1371147334575653\n",
      "test loss: 0.15418115258216858\n",
      "epoch 88\n",
      "train loss: 0.3395484685897827\n",
      "test loss: 0.31346338987350464\n",
      "epoch 89\n",
      "train loss: 0.1622850000858307\n",
      "test loss: 0.07370655238628387 (best, saving model)\n",
      "epoch 90\n",
      "train loss: 0.1270749270915985\n",
      "test loss: 0.17299222946166992\n",
      "epoch 91\n",
      "train loss: 0.12998199462890625\n",
      "test loss: 0.14455141127109528\n",
      "epoch 92\n",
      "train loss: 0.2768322825431824\n",
      "test loss: 0.17950229346752167\n",
      "epoch 93\n",
      "train loss: 0.11608372628688812\n",
      "test loss: 0.15585266053676605\n",
      "epoch 94\n",
      "train loss: 0.16228346526622772\n",
      "test loss: 0.18990923464298248\n",
      "epoch 95\n",
      "train loss: 0.08093786239624023\n",
      "test loss: 0.19116294384002686\n",
      "epoch 96\n",
      "train loss: 0.16733577847480774\n",
      "test loss: 0.2351735234260559\n",
      "epoch 97\n",
      "train loss: 0.10328017175197601\n",
      "test loss: 0.259125292301178\n",
      "epoch 98\n",
      "train loss: 0.06681834161281586\n",
      "test loss: 0.23365555703639984\n",
      "epoch 99\n",
      "train loss: 0.1290932595729828\n",
      "test loss: 0.15790319442749023\n"
     ]
    }
   ],
   "source": [
    "train_len = len(train_dataset)\n",
    "\n",
    "dummy_input = torch.randn(1, 3, 224, 224, device='cuda')\n",
    "os.makedirs('models', exist_ok=True)\n",
    "best_loss = np.inf\n",
    "\n",
    "for epoch in range(EPOCHS):\n",
    "    print(f'epoch {epoch}')\n",
    "    train_loss_history, test_loss_history = [], []\n",
    "\n",
    "    mobilenet.train()\n",
    "    for i, (x_train, y_train) in enumerate(train):\n",
    "        if not i % 5:\n",
    "            print(f'{i}/{int(train_len / BATCH_SIZE)}', end='\\r')\n",
    "        x_train = torch.movedim(x_train, -1, -3)\n",
    "        x_train = x_train.to(torch.device('cuda'))\n",
    "        y_train = y_train.to(torch.device('cuda'))\n",
    "        optimizer.zero_grad()\n",
    "        y_hat = mobilenet(x_train)\n",
    "        loss = criterion(y_hat, y_train)\n",
    "        loss.backward()\n",
    "        optimizer.step()\n",
    "        train_loss_history.append(float(loss.detach().cpu()))\n",
    "        break\n",
    "    print(f'train loss: {sum(train_loss_history) / len(train_loss_history)}')\n",
    "\n",
    "    mobilenet.eval()\n",
    "    with torch.no_grad():\n",
    "        for x_test, y_test in test:\n",
    "            x_test = torch.movedim(x_test, -1, -3)\n",
    "            x_test = x_test.to(torch.device('cuda'))\n",
    "            y_test = y_test.to(torch.device('cuda'))\n",
    "            y_hat = mobilenet(x_test)\n",
    "            loss = criterion(y_hat, y_test)\n",
    "            test_loss_history.append(float(loss.detach().cpu()))\n",
    "            break\n",
    "    test_loss = sum(test_loss_history) / len(test_loss_history)\n",
    "    if test_loss < best_loss:\n",
    "        best_loss = test_loss\n",
    "        torch.jit.save(mobilenet, f'models/mobilenet_{epoch}_{test_loss:.4f}.pt')\n",
    "        torch.onnx.export(mobilenet, dummy_input, f'models/mobilenet_{epoch}_{test_loss:.4f}_opset_11.onnx', opset_version=11)\n",
    "        torch.onnx.export(mobilenet, dummy_input, f'models/mobilenet_{epoch}_{test_loss:.4f}_opset_13.onnx', opset_version=13)\n",
    "        print(f'test loss: {test_loss} (best, saving model)')\n",
    "    else:\n",
    "        print(f'test loss: {test_loss}')"
   ],
   "metadata": {
    "collapsed": false,
    "pycharm": {
     "name": "#%%\n"
    }
   }
  }
 ],
 "metadata": {
  "accelerator": "GPU",
  "colab": {
   "collapsed_sections": [],
   "name": "jetbot-dl-model.ipynb",
   "provenance": []
  },
  "kernelspec": {
   "display_name": "Python 3 (ipykernel)",
   "language": "python",
   "name": "python3"
  },
  "language_info": {
   "codemirror_mode": {
    "name": "ipython",
    "version": 3
   },
   "file_extension": ".py",
   "mimetype": "text/x-python",
   "name": "python",
   "nbconvert_exporter": "python",
   "pygments_lexer": "ipython3",
   "version": "3.10.4"
  }
 },
 "nbformat": 4,
 "nbformat_minor": 1
}